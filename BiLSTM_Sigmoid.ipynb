{
 "cells": [
  {
   "cell_type": "code",
   "execution_count": 1,
   "id": "1031af87-6526-489c-8536-fbb7b6b0003d",
   "metadata": {},
   "outputs": [],
   "source": [
    "#imports\n",
    "import pandas as pd\n",
    "import numpy as np\n",
    "import re\n",
    "from sklearn.model_selection import train_test_split\n",
    "from sklearn.preprocessing import LabelEncoder\n",
    "from tensorflow.keras.preprocessing.text import Tokenizer\n",
    "from tensorflow.keras.preprocessing.sequence import pad_sequences\n",
    "from tensorflow.keras.models import Model\n",
    "from tensorflow.keras.layers import Input, Dense, Dropout, LSTM, Bidirectional, Masking, Activation, dot, Embedding \n",
    "from tensorflow.keras.callbacks import EarlyStopping, ModelCheckpoint\n",
    "from tensorflow.keras import optimizers\n",
    "from nltk.corpus import stopwords\n",
    "from nltk.tokenize import word_tokenize\n",
    "import tensorflow.keras.backend as k\n",
    "from tensorflow.keras.utils import to_categorical\n",
    "from sklearn.metrics import accuracy_score, precision_score, recall_score, f1_score, classification_report, roc_curve, auc\n",
    "import matplotlib.pyplot as plt"
   ]
  },
  {
   "cell_type": "code",
   "execution_count": 2,
   "id": "fac302ef-b056-4a19-84c0-15495296c54e",
   "metadata": {},
   "outputs": [],
   "source": [
    "#global variables\n",
    "class globalvars:\n",
    "    max_len = 100\n",
    "    nb_features = 5000\n",
    "    nb_hidden_units = 150\n",
    "    nb_lstm_cells = 64\n",
    "    nb_classes = 3\n",
    "    masking_value = 0.0\n",
    "    globalVar = 0\n"
   ]
  },
  {
   "cell_type": "code",
   "execution_count": 3,
   "id": "a6cb8690-f802-48c7-b718-b55cf5500cd9",
   "metadata": {},
   "outputs": [],
   "source": [
    "#file loading\n",
    "csv_file_path1 = \"C:/Users/abhure/Documents/SEM3/Text Analytics/Project/Data/raw data/all-data.csv\"\n",
    "csv_file_path2 = \"C:/Users/abhure/Documents/SEM3/Text Analytics/Project/Data/raw data/RoBERTaWeaklyLabelling.csv\"\n",
    "\n",
    "try:\n",
    "    df1 = pd.read_csv(csv_file_path1, encoding='utf-8')\n",
    "except UnicodeDecodeError:\n",
    "    df1 = pd.read_csv(csv_file_path1, encoding='latin1')\n",
    "\n",
    "try:\n",
    "    df2 = pd.read_csv(csv_file_path2, encoding='utf-8')\n",
    "except UnicodeDecodeError:\n",
    "    df2 = pd.read_csv(csv_file_path2, encoding='latin1')"
   ]
  },
  {
   "cell_type": "code",
   "execution_count": 4,
   "id": "943337bf-2075-41f3-984f-afed52ff4d37",
   "metadata": {},
   "outputs": [],
   "source": [
    "# Concatenate datasets\n",
    "df = pd.concat([df1, df2], ignore_index=True)\n",
    "\n",
    "# Data Preprocessing\n",
    "stop_words = set(stopwords.words('english'))\n",
    "\n",
    "df['label'] = df['label'].apply(lambda x: x.lower())"
   ]
  },
  {
   "cell_type": "code",
   "execution_count": 5,
   "id": "75660eda-813a-4e5c-8bef-bda470eb97b3",
   "metadata": {},
   "outputs": [],
   "source": [
    "#data preprocessing\n",
    "def preprocess_text(text):\n",
    "    text = re.sub(r'\\W', ' ', str(text))\n",
    "    text = re.sub(r'\\s+[a-zA-Z]\\s+', ' ', text)\n",
    "    text = re.sub(r'\\^[a-zA-Z]\\s+', ' ', text)\n",
    "    text = re.sub(r'\\s+', ' ', text, flags=re.I)\n",
    "    text = re.sub(r'^b\\s+', '', text)\n",
    "    text = text.lower()\n",
    "    text = word_tokenize(text)\n",
    "    text = [word for word in text if word not in stop_words]\n",
    "    return ' '.join(text)\n",
    "\n",
    "df['processed_text'] = df['news'].apply(preprocess_text) "
   ]
  },
  {
   "cell_type": "code",
   "execution_count": 6,
   "id": "45d00cf1-a9dd-4117-842f-28f3c782a2f1",
   "metadata": {},
   "outputs": [
    {
     "data": {
      "text/html": [
       "<div>\n",
       "<style scoped>\n",
       "    .dataframe tbody tr th:only-of-type {\n",
       "        vertical-align: middle;\n",
       "    }\n",
       "\n",
       "    .dataframe tbody tr th {\n",
       "        vertical-align: top;\n",
       "    }\n",
       "\n",
       "    .dataframe thead th {\n",
       "        text-align: right;\n",
       "    }\n",
       "</style>\n",
       "<table border=\"1\" class=\"dataframe\">\n",
       "  <thead>\n",
       "    <tr style=\"text-align: right;\">\n",
       "      <th></th>\n",
       "      <th>label</th>\n",
       "      <th>news</th>\n",
       "      <th>processed_text</th>\n",
       "      <th>label_encoded</th>\n",
       "    </tr>\n",
       "  </thead>\n",
       "  <tbody>\n",
       "    <tr>\n",
       "      <th>0</th>\n",
       "      <td>neutral</td>\n",
       "      <td>According to Gran , the company has no plans t...</td>\n",
       "      <td>according gran company plans move production r...</td>\n",
       "      <td>1</td>\n",
       "    </tr>\n",
       "    <tr>\n",
       "      <th>1</th>\n",
       "      <td>neutral</td>\n",
       "      <td>Technopolis plans to develop in stages an area...</td>\n",
       "      <td>technopolis plans develop stages area less 100...</td>\n",
       "      <td>1</td>\n",
       "    </tr>\n",
       "    <tr>\n",
       "      <th>2</th>\n",
       "      <td>negative</td>\n",
       "      <td>The international electronic industry company ...</td>\n",
       "      <td>international electronic industry company elco...</td>\n",
       "      <td>0</td>\n",
       "    </tr>\n",
       "    <tr>\n",
       "      <th>3</th>\n",
       "      <td>positive</td>\n",
       "      <td>With the new production plant the company woul...</td>\n",
       "      <td>new production plant company would increase ca...</td>\n",
       "      <td>2</td>\n",
       "    </tr>\n",
       "    <tr>\n",
       "      <th>4</th>\n",
       "      <td>positive</td>\n",
       "      <td>According to the company 's updated strategy f...</td>\n",
       "      <td>according company updated strategy years 2009 ...</td>\n",
       "      <td>2</td>\n",
       "    </tr>\n",
       "    <tr>\n",
       "      <th>...</th>\n",
       "      <td>...</td>\n",
       "      <td>...</td>\n",
       "      <td>...</td>\n",
       "      <td>...</td>\n",
       "    </tr>\n",
       "    <tr>\n",
       "      <th>77155</th>\n",
       "      <td>neutral</td>\n",
       "      <td>Decision needed on BoE's ECB stake after Brexi...</td>\n",
       "      <td>decision needed boe ecb stake brexit nowotny</td>\n",
       "      <td>1</td>\n",
       "    </tr>\n",
       "    <tr>\n",
       "      <th>77156</th>\n",
       "      <td>negative</td>\n",
       "      <td>Breakingviews TV: X factor</td>\n",
       "      <td>breakingviews tv factor</td>\n",
       "      <td>0</td>\n",
       "    </tr>\n",
       "    <tr>\n",
       "      <th>77157</th>\n",
       "      <td>positive</td>\n",
       "      <td>BRIEF-MagneGas To Expand Green Arc Sales Force...</td>\n",
       "      <td>brief magnegas expand green arc sales force 60...</td>\n",
       "      <td>2</td>\n",
       "    </tr>\n",
       "    <tr>\n",
       "      <th>77158</th>\n",
       "      <td>neutral</td>\n",
       "      <td>Uber introduces new safety features as it figh...</td>\n",
       "      <td>uber introduces new safety features fights ret...</td>\n",
       "      <td>1</td>\n",
       "    </tr>\n",
       "    <tr>\n",
       "      <th>77159</th>\n",
       "      <td>neutral</td>\n",
       "      <td>White House Names Christopher Liddell as a Dep...</td>\n",
       "      <td>white house names christopher liddell deputy c...</td>\n",
       "      <td>1</td>\n",
       "    </tr>\n",
       "  </tbody>\n",
       "</table>\n",
       "<p>77160 rows × 4 columns</p>\n",
       "</div>"
      ],
      "text/plain": [
       "          label                                               news  \\\n",
       "0       neutral  According to Gran , the company has no plans t...   \n",
       "1       neutral  Technopolis plans to develop in stages an area...   \n",
       "2      negative  The international electronic industry company ...   \n",
       "3      positive  With the new production plant the company woul...   \n",
       "4      positive  According to the company 's updated strategy f...   \n",
       "...         ...                                                ...   \n",
       "77155   neutral  Decision needed on BoE's ECB stake after Brexi...   \n",
       "77156  negative                         Breakingviews TV: X factor   \n",
       "77157  positive  BRIEF-MagneGas To Expand Green Arc Sales Force...   \n",
       "77158   neutral  Uber introduces new safety features as it figh...   \n",
       "77159   neutral  White House Names Christopher Liddell as a Dep...   \n",
       "\n",
       "                                          processed_text  label_encoded  \n",
       "0      according gran company plans move production r...              1  \n",
       "1      technopolis plans develop stages area less 100...              1  \n",
       "2      international electronic industry company elco...              0  \n",
       "3      new production plant company would increase ca...              2  \n",
       "4      according company updated strategy years 2009 ...              2  \n",
       "...                                                  ...            ...  \n",
       "77155       decision needed boe ecb stake brexit nowotny              1  \n",
       "77156                            breakingviews tv factor              0  \n",
       "77157  brief magnegas expand green arc sales force 60...              2  \n",
       "77158  uber introduces new safety features fights ret...              1  \n",
       "77159  white house names christopher liddell deputy c...              1  \n",
       "\n",
       "[77160 rows x 4 columns]"
      ]
     },
     "execution_count": 6,
     "metadata": {},
     "output_type": "execute_result"
    }
   ],
   "source": [
    "# Encode Labels using LabelEncoder\n",
    "label_encoder = LabelEncoder()\n",
    "df['label_encoded'] = label_encoder.fit_transform(df['label'])\n",
    "df"
   ]
  },
  {
   "cell_type": "code",
   "execution_count": 7,
   "id": "b164276b-5576-466f-a185-c0f27eaeecd3",
   "metadata": {},
   "outputs": [
    {
     "data": {
      "text/plain": [
       "<bound method Series.unique of 0        1\n",
       "1        1\n",
       "2        0\n",
       "3        2\n",
       "4        2\n",
       "        ..\n",
       "77155    1\n",
       "77156    0\n",
       "77157    2\n",
       "77158    1\n",
       "77159    1\n",
       "Name: label_encoded, Length: 77160, dtype: int32>"
      ]
     },
     "execution_count": 7,
     "metadata": {},
     "output_type": "execute_result"
    }
   ],
   "source": [
    "df['label_encoded'].unique"
   ]
  },
  {
   "cell_type": "code",
   "execution_count": 8,
   "id": "1e2eb221-ff3f-45e0-a42f-220ece39f569",
   "metadata": {},
   "outputs": [],
   "source": [
    "X = df['processed_text'].values\n",
    "y = df['label_encoded'].values"
   ]
  },
  {
   "cell_type": "code",
   "execution_count": 9,
   "id": "3a72c48a-2085-4467-ad83-5a5435255519",
   "metadata": {},
   "outputs": [],
   "source": [
    "#train test split\n",
    "X_train, X_test, y_train, y_test = train_test_split(X, y, test_size=0.2, random_state=42)"
   ]
  },
  {
   "cell_type": "code",
   "execution_count": 10,
   "id": "03ace3ca-ed5f-4bff-8164-eb31738f3233",
   "metadata": {},
   "outputs": [],
   "source": [
    "tokenizer = Tokenizer(num_words=globalvars.nb_features + 1, lower=True)  # +1 for masking value\n",
    "tokenizer.fit_on_texts(X_train)"
   ]
  },
  {
   "cell_type": "code",
   "execution_count": 11,
   "id": "36b4c635-e2d6-4158-88ee-52dcb84c701c",
   "metadata": {},
   "outputs": [],
   "source": [
    "X_train_feature = tokenizer.texts_to_sequences(X_train)\n",
    "X_test_feature = tokenizer.texts_to_sequences(X_test)\n",
    "\n",
    "X_train_feature = pad_sequences(X_train_feature, maxlen=globalvars.max_len)\n",
    "X_test_feature = pad_sequences(X_test_feature, maxlen=globalvars.max_len)"
   ]
  },
  {
   "cell_type": "code",
   "execution_count": 12,
   "id": "1238ee36-3138-42eb-882d-e7d70f8076a4",
   "metadata": {},
   "outputs": [],
   "source": [
    "#model architecture\n",
    "def create_model():\n",
    "    input_feature = Input(shape=(globalvars.max_len,))\n",
    "    x = Embedding(globalvars.nb_features + 1, 128)(input_feature)\n",
    "    x = Masking(mask_value=globalvars.masking_value)(x)\n",
    "    x = Dense(globalvars.nb_hidden_units, activation='sigmoid')(x)\n",
    "    x = Dropout(0.3)(x)\n",
    "    x = Dense(globalvars.nb_hidden_units, activation='sigmoid')(x)\n",
    "    x = Dropout(0.3)(x)\n",
    "    y = Bidirectional(LSTM(globalvars.nb_lstm_cells, return_sequences=True, dropout=0.5))(x)\n",
    "\n",
    "    input_attention = Input(shape=(globalvars.nb_lstm_cells * 2,))\n",
    "    u = Dense(globalvars.nb_lstm_cells * 2, activation='softmax')(input_attention)\n",
    "    alpha = dot([u, y], axes=-1)\n",
    "    alpha = Activation('softmax')(alpha)\n",
    "    z = dot([alpha, y], axes=1)\n",
    "\n",
    "    nb_classes = 3  # Three classes: positive, negative, neutral\n",
    "    output = Dense(nb_classes, activation='softmax')(z)\n",
    "\n",
    "    model = Model(inputs=[input_attention, input_feature], outputs=output)\n",
    "\n",
    "    optimizer = optimizers.Adam()\n",
    "    model.compile(loss='sparse_categorical_crossentropy', optimizer=optimizer, metrics=['accuracy'])\n",
    "\n",
    "    return model\n",
    "\n",
    "model = create_model()"
   ]
  },
  {
   "cell_type": "code",
   "execution_count": 13,
   "id": "7d3567f0-422f-4462-8c7c-ef7baa6846c6",
   "metadata": {},
   "outputs": [],
   "source": [
    "#early stopping\n",
    "callback_list = [\n",
    "    EarlyStopping(\n",
    "        monitor='val_loss',\n",
    "        patience=10,\n",
    "        verbose=1,\n",
    "        mode='auto'\n",
    "    )\n",
    "]"
   ]
  },
  {
   "cell_type": "code",
   "execution_count": 14,
   "id": "57e20470-eb4f-426e-8fdf-2cb40f5f617a",
   "metadata": {},
   "outputs": [],
   "source": [
    "X_train_attention = np.zeros((len(X_train), globalvars.nb_lstm_cells * 2))  \n",
    "X_test_attention = np.zeros((len(X_test), globalvars.nb_lstm_cells * 2)) "
   ]
  },
  {
   "cell_type": "code",
   "execution_count": 15,
   "id": "9fc10a66-4a97-431b-9b5c-c47a6fce4ea7",
   "metadata": {},
   "outputs": [
    {
     "name": "stdout",
     "output_type": "stream",
     "text": [
      "Epoch 1/5\n",
      "\u001b[1m965/965\u001b[0m \u001b[32m━━━━━━━━━━━━━━━━━━━━\u001b[0m\u001b[37m\u001b[0m \u001b[1m545s\u001b[0m 549ms/step - accuracy: 0.4871 - loss: 1.0008 - val_accuracy: 0.7177 - val_loss: 0.6591\n",
      "Epoch 2/5\n",
      "\u001b[1m965/965\u001b[0m \u001b[32m━━━━━━━━━━━━━━━━━━━━\u001b[0m\u001b[37m\u001b[0m \u001b[1m495s\u001b[0m 513ms/step - accuracy: 0.7926 - loss: 0.5710 - val_accuracy: 0.8482 - val_loss: 0.4810\n",
      "Epoch 3/5\n",
      "\u001b[1m965/965\u001b[0m \u001b[32m━━━━━━━━━━━━━━━━━━━━\u001b[0m\u001b[37m\u001b[0m \u001b[1m509s\u001b[0m 519ms/step - accuracy: 0.8509 - loss: 0.4580 - val_accuracy: 0.8532 - val_loss: 0.4594\n",
      "Epoch 4/5\n",
      "\u001b[1m965/965\u001b[0m \u001b[32m━━━━━━━━━━━━━━━━━━━━\u001b[0m\u001b[37m\u001b[0m \u001b[1m623s\u001b[0m 645ms/step - accuracy: 0.8549 - loss: 0.4413 - val_accuracy: 0.8545 - val_loss: 0.4647\n",
      "Epoch 5/5\n",
      "\u001b[1m965/965\u001b[0m \u001b[32m━━━━━━━━━━━━━━━━━━━━\u001b[0m\u001b[37m\u001b[0m \u001b[1m715s\u001b[0m 741ms/step - accuracy: 0.8617 - loss: 0.4215 - val_accuracy: 0.8550 - val_loss: 0.4524\n"
     ]
    }
   ],
   "source": [
    "#model training\n",
    "history = model.fit(\n",
    "    [X_train_attention, X_train_feature], y_train,\n",
    "    epochs=5, batch_size=64,\n",
    "    validation_data=([X_test_attention, X_test_feature], y_test),\n",
    "    callbacks=callback_list,\n",
    "    verbose=1\n",
    ")"
   ]
  },
  {
   "cell_type": "code",
   "execution_count": 16,
   "id": "b6764ed2-592d-4a7e-a909-13098263952d",
   "metadata": {},
   "outputs": [
    {
     "name": "stdout",
     "output_type": "stream",
     "text": [
      "\u001b[1m483/483\u001b[0m \u001b[32m━━━━━━━━━━━━━━━━━━━━\u001b[0m\u001b[37m\u001b[0m \u001b[1m118s\u001b[0m 221ms/step\n",
      "Accuracy: 0.8550\n",
      "Precision: 0.8539\n",
      "Recall: 0.8550\n",
      "F1-score: 0.8536\n",
      "              precision    recall  f1-score   support\n",
      "\n",
      "    negative       0.82      0.73      0.77      3420\n",
      "     neutral       0.86      0.91      0.88      5386\n",
      "    positive       0.86      0.88      0.87      6626\n",
      "\n",
      "    accuracy                           0.85     15432\n",
      "   macro avg       0.85      0.84      0.84     15432\n",
      "weighted avg       0.85      0.85      0.85     15432\n",
      "\n"
     ]
    }
   ],
   "source": [
    "# Make predictions\n",
    "y_pred = model.predict([X_test_attention, X_test_feature])\n",
    "y_pred_classes = np.argmax(y_pred, axis=1)\n",
    "\n",
    "# Convert y_test to categorical if needed (depends on your model output)\n",
    "# y_test_cat = to_categorical(y_test, num_classes=globalvars.nb_classes)\n",
    "\n",
    "# Calculate metrics\n",
    "accuracy = accuracy_score(y_test, y_pred_classes)\n",
    "precision = precision_score(y_test, y_pred_classes, average='weighted')\n",
    "recall = recall_score(y_test, y_pred_classes, average='weighted')\n",
    "f1 = f1_score(y_test, y_pred_classes, average='weighted')\n",
    "\n",
    "# Print metrics\n",
    "print(f'Accuracy: {accuracy:.4f}')\n",
    "print(f'Precision: {precision:.4f}')\n",
    "print(f'Recall: {recall:.4f}')\n",
    "print(f'F1-score: {f1:.4f}')\n",
    "\n",
    "# Classification report\n",
    "print(classification_report(y_test, y_pred_classes, target_names=label_encoder.classes_))\n"
   ]
  },
  {
   "cell_type": "markdown",
   "id": "c2c09904",
   "metadata": {},
   "source": [
    "The model performs well across all sentiment classes with an overall accuracy of 85%.\n",
    "\n",
    "Neutral and Positive classes have higher precision and recall compared to the Negative class.\n",
    "\n",
    "The Negative class shows slightly lower recall (0.73), indicating some negative instances are being misclassified.\n",
    "\n",
    "Lesser accuracy than BiLSTM Relu and BLSTM Tanh might be due to vanishing gradient."
   ]
  },
  {
   "cell_type": "code",
   "execution_count": 17,
   "id": "0e1557ff-37b4-422b-b3d3-4e17dacc6e0b",
   "metadata": {},
   "outputs": [
    {
     "data": {
      "image/png": "[encoded data removed]",
      "text/plain": [
       "<Figure size 640x480 with 1 Axes>"
      ]
     },
     "metadata": {},
     "output_type": "display_data"
    }
   ],
   "source": [
    "# Plot ROC curve \n",
    "fpr = dict() \n",
    "tpr = dict() \n",
    "roc_auc = dict()  \n",
    "for i in range(globalvars.nb_classes): \n",
    "    fpr[i], tpr[i], _ = roc_curve(y_test, y_pred[:, i], pos_label=i)  \n",
    "    roc_auc[i] = auc(fpr[i], tpr[i]) \n",
    "\n",
    "# Plotting the ROC curves\n",
    "plt.figure() \n",
    "for i in range(globalvars.nb_classes): \n",
    "    plt.plot(fpr[i], tpr[i], label=f'Class {i} (area = {roc_auc[i]:.2f})') \n",
    "plt.plot([0, 1], [0, 1], 'k--') \n",
    "plt.xlim([0.0, 1.0]) \n",
    "plt.ylim([0.0, 1.05]) \n",
    "plt.xlabel('False Positive Rate')  \n",
    "plt.ylabel('True Positive Rate') \n",
    "plt.title('(ROC) Curve BiLSTM Sigmoid')  \n",
    "plt.legend(loc=\"lower right\")  \n",
    "plt.show() "
   ]
  },
  {
   "cell_type": "markdown",
   "id": "67f2b2ca",
   "metadata": {},
   "source": [
    "The graph exhibit exceptional performance in classifying instances into the three classes. The AUC scores for all classes are consistently high, and the curves are tightly clustered near the top-left corner of the plot."
   ]
  }
 ],
 "metadata": {
  "kernelspec": {
   "display_name": "Python 3 (ipykernel)",
   "language": "python",
   "name": "python3"
  },
  "language_info": {
   "codemirror_mode": {
    "name": "ipython",
    "version": 3
   },
   "file_extension": ".py",
   "mimetype": "text/x-python",
   "name": "python",
   "nbconvert_exporter": "python",
   "pygments_lexer": "ipython3",
   "version": "3.11.5"
  }
 },
 "nbformat": 4,
 "nbformat_minor": 5
}
