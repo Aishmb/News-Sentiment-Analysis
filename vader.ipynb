{
 "cells": [
  {
   "cell_type": "code",
   "execution_count": 1,
   "id": "78b3e523-d5ee-4e9f-b817-973d2a69549d",
   "metadata": {},
   "outputs": [
    {
     "name": "stderr",
     "output_type": "stream",
     "text": [
      "[nltk_data] Downloading package wordnet to\n",
      "[nltk_data]     C:\\Users\\abhure\\AppData\\Roaming\\nltk_data...\n",
      "[nltk_data]   Package wordnet is already up-to-date!\n",
      "[nltk_data] Downloading package stopwords to\n",
      "[nltk_data]     C:\\Users\\abhure\\AppData\\Roaming\\nltk_data...\n",
      "[nltk_data]   Package stopwords is already up-to-date!\n"
     ]
    }
   ],
   "source": [
    "#imports\n",
    "import pandas as pd\n",
    "import re\n",
    "import nltk\n",
    "from nltk.corpus import stopwords\n",
    "from nltk.stem import PorterStemmer, WordNetLemmatizer\n",
    "nltk.download('wordnet')\n",
    "nltk.download('stopwords')\n",
    "from sklearn.preprocessing import LabelEncoder, label_binarize\n",
    "from sklearn.model_selection import train_test_split\n",
    "import matplotlib.pyplot as plt\n",
    "from wordcloud import WordCloud\n",
    "from nltk.sentiment.vader import SentimentIntensityAnalyzer\n",
    "from sklearn.metrics import precision_score, recall_score, f1_score, roc_curve, auc\n",
    "import matplotlib.pyplot as plt\n",
    "from itertools import cycle\n",
    "# Suppress the SettingWithCopyWarning\n",
    "pd.options.mode.chained_assignment = None"
   ]
  },
  {
   "cell_type": "code",
   "execution_count": 2,
   "id": "c3b175ae-be8c-4fb6-a1c4-13e5ba200193",
   "metadata": {},
   "outputs": [],
   "source": [
    "#load the files\n",
    "csv_file_path1 = \"C:/Users/abhure/Documents/SEM3/Text Analytics/Project/Data/raw data/all-data.csv\"\n",
    "csv_file_path2 = \"C:/Users/abhure/Documents/SEM3/Text Analytics/Project/Data/raw data/RoBERTaWeaklyLabelling.csv\"\n",
    "try:\n",
    "    df1 = pd.read_csv(csv_file_path1, encoding='utf-8')\n",
    "except UnicodeDecodeError:\n",
    "    df1 = pd.read_csv(csv_file_path1, encoding='latin1')\n",
    "try:\n",
    "    df2 = pd.read_csv(csv_file_path2, encoding='utf-8')\n",
    "except UnicodeDecodeError:\n",
    "    df2 = pd.read_csv(csv_file_path2, encoding='latin1')"
   ]
  },
  {
   "cell_type": "code",
   "execution_count": 3,
   "id": "b5ea56ce-ca4e-4e95-affd-c4359136a055",
   "metadata": {},
   "outputs": [
    {
     "data": {
      "text/html": [
       "<div>\n",
       "<style scoped>\n",
       "    .dataframe tbody tr th:only-of-type {\n",
       "        vertical-align: middle;\n",
       "    }\n",
       "\n",
       "    .dataframe tbody tr th {\n",
       "        vertical-align: top;\n",
       "    }\n",
       "\n",
       "    .dataframe thead th {\n",
       "        text-align: right;\n",
       "    }\n",
       "</style>\n",
       "<table border=\"1\" class=\"dataframe\">\n",
       "  <thead>\n",
       "    <tr style=\"text-align: right;\">\n",
       "      <th></th>\n",
       "      <th>label</th>\n",
       "      <th>news</th>\n",
       "    </tr>\n",
       "  </thead>\n",
       "  <tbody>\n",
       "    <tr>\n",
       "      <th>0</th>\n",
       "      <td>neutral</td>\n",
       "      <td>According to Gran , the company has no plans t...</td>\n",
       "    </tr>\n",
       "    <tr>\n",
       "      <th>1</th>\n",
       "      <td>neutral</td>\n",
       "      <td>Technopolis plans to develop in stages an area...</td>\n",
       "    </tr>\n",
       "    <tr>\n",
       "      <th>2</th>\n",
       "      <td>negative</td>\n",
       "      <td>The international electronic industry company ...</td>\n",
       "    </tr>\n",
       "    <tr>\n",
       "      <th>3</th>\n",
       "      <td>positive</td>\n",
       "      <td>With the new production plant the company woul...</td>\n",
       "    </tr>\n",
       "    <tr>\n",
       "      <th>4</th>\n",
       "      <td>positive</td>\n",
       "      <td>According to the company 's updated strategy f...</td>\n",
       "    </tr>\n",
       "    <tr>\n",
       "      <th>...</th>\n",
       "      <td>...</td>\n",
       "      <td>...</td>\n",
       "    </tr>\n",
       "    <tr>\n",
       "      <th>77155</th>\n",
       "      <td>neutral</td>\n",
       "      <td>Decision needed on BoE's ECB stake after Brexi...</td>\n",
       "    </tr>\n",
       "    <tr>\n",
       "      <th>77156</th>\n",
       "      <td>negative</td>\n",
       "      <td>Breakingviews TV: X factor</td>\n",
       "    </tr>\n",
       "    <tr>\n",
       "      <th>77157</th>\n",
       "      <td>positive</td>\n",
       "      <td>BRIEF-MagneGas To Expand Green Arc Sales Force...</td>\n",
       "    </tr>\n",
       "    <tr>\n",
       "      <th>77158</th>\n",
       "      <td>neutral</td>\n",
       "      <td>Uber introduces new safety features as it figh...</td>\n",
       "    </tr>\n",
       "    <tr>\n",
       "      <th>77159</th>\n",
       "      <td>neutral</td>\n",
       "      <td>White House Names Christopher Liddell as a Dep...</td>\n",
       "    </tr>\n",
       "  </tbody>\n",
       "</table>\n",
       "<p>77160 rows × 2 columns</p>\n",
       "</div>"
      ],
      "text/plain": [
       "          label                                               news\n",
       "0       neutral  According to Gran , the company has no plans t...\n",
       "1       neutral  Technopolis plans to develop in stages an area...\n",
       "2      negative  The international electronic industry company ...\n",
       "3      positive  With the new production plant the company woul...\n",
       "4      positive  According to the company 's updated strategy f...\n",
       "...         ...                                                ...\n",
       "77155   neutral  Decision needed on BoE's ECB stake after Brexi...\n",
       "77156  negative                         Breakingviews TV: X factor\n",
       "77157  positive  BRIEF-MagneGas To Expand Green Arc Sales Force...\n",
       "77158   neutral  Uber introduces new safety features as it figh...\n",
       "77159   neutral  White House Names Christopher Liddell as a Dep...\n",
       "\n",
       "[77160 rows x 2 columns]"
      ]
     },
     "execution_count": 3,
     "metadata": {},
     "output_type": "execute_result"
    }
   ],
   "source": [
    "#concatinating dataframes\n",
    "if set(df1.columns) == set(df2.columns):\n",
    "    df = pd.concat([df1, df2], ignore_index=True)\n",
    "else:\n",
    "    column_mapping = {'news': 'news', 'label': 'label'}\n",
    "    df2 = df2.rename(columns=column_mapping)\n",
    "    \n",
    "    # Append df2 to df1\n",
    "    df = pd.concat([df1, df2], ignore_index=True)\n",
    "\n",
    "df"
   ]
  },
  {
   "cell_type": "code",
   "execution_count": 4,
   "id": "8b13c63a-e14e-4aa7-a776-5bccdfda117a",
   "metadata": {},
   "outputs": [
    {
     "name": "stdout",
     "output_type": "stream",
     "text": [
      "['neutral' 'negative' 'positive']\n"
     ]
    }
   ],
   "source": [
    "#converting all the labels to lowercase\n",
    "df['label'] = df['label'].apply(lambda x: x.lower())\n",
    "unique_labels = df['label'].unique()\n",
    "print(unique_labels)"
   ]
  },
  {
   "cell_type": "code",
   "execution_count": 5,
   "id": "ddfcbbbf-8114-42b0-a8c9-2c9ef0a7c4d0",
   "metadata": {},
   "outputs": [],
   "source": [
    "#drop null values\n",
    "df = df.dropna(subset=['news'])"
   ]
  },
  {
   "cell_type": "code",
   "execution_count": 6,
   "id": "f368065f-e62b-4259-9c13-7862fca040c2",
   "metadata": {},
   "outputs": [],
   "source": [
    "sid = SentimentIntensityAnalyzer()"
   ]
  },
  {
   "cell_type": "code",
   "execution_count": 7,
   "id": "b2c077d2-f44a-46c3-9467-05633c29ecb8",
   "metadata": {},
   "outputs": [],
   "source": [
    "# Function to get sentiment polarity\n",
    "def get_sentiment_polarity(text):\n",
    "    scores = sid.polarity_scores(text)\n",
    "    compound_score = scores['compound']\n",
    "    if compound_score >= 0.05:\n",
    "        return 'positive'\n",
    "    elif compound_score <= -0.05:\n",
    "        return 'negative'\n",
    "    else:\n",
    "        return 'neutral'"
   ]
  },
  {
   "cell_type": "code",
   "execution_count": 8,
   "id": "1c595db7-c561-4a91-b6ef-84d7c40d00ee",
   "metadata": {},
   "outputs": [],
   "source": [
    "#get the sentiment scores using predefined lexicons\n",
    "df.loc[:, 'sentiment'] = df['news'].apply(get_sentiment_polarity)"
   ]
  },
  {
   "cell_type": "code",
   "execution_count": 9,
   "id": "71f503c4-7ced-4530-8f52-92314f5597ca",
   "metadata": {},
   "outputs": [
    {
     "name": "stdout",
     "output_type": "stream",
     "text": [
      "Accuracy: 94.47%\n"
     ]
    }
   ],
   "source": [
    "# Compare sentiment with labels\n",
    "correct_predictions = df[df['sentiment'] == df['label']]\n",
    "accuracy = len(correct_predictions) / len(df) * 100\n",
    "print(f\"Accuracy: {accuracy:.2f}%\")"
   ]
  },
  {
   "cell_type": "code",
   "execution_count": 10,
   "id": "d7e404ce-25f2-446e-9ef7-c71a41effffe",
   "metadata": {},
   "outputs": [
    {
     "name": "stdout",
     "output_type": "stream",
     "text": [
      "Accuracy: 0.9447144275487276\n"
     ]
    }
   ],
   "source": [
    "correct_predictions = df[df['sentiment'] == df['label']]\n",
    "accuracy = len(correct_predictions) / len(df) \n",
    "print(f\"Accuracy: {accuracy}\")"
   ]
  },
  {
   "cell_type": "code",
   "execution_count": 11,
   "id": "1b091961-a240-443b-af94-8cf03ccb9287",
   "metadata": {},
   "outputs": [
    {
     "name": "stdout",
     "output_type": "stream",
     "text": [
      "Precision: 0.944940537136157\n",
      "Recall: 0.9447144275487276\n",
      "F1 Score: 0.9447390176290894\n"
     ]
    }
   ],
   "source": [
    "precision = precision_score(df['label'], df['sentiment'], average='weighted')\n",
    "recall = recall_score(df['label'], df['sentiment'], average='weighted')\n",
    "f1 = f1_score(df['label'], df['sentiment'], average='weighted')\n",
    "\n",
    "print(f\"Precision: {precision}\")\n",
    "print(f\"Recall: {recall}\")\n",
    "print(f\"F1 Score: {f1}\")"
   ]
  },
  {
   "cell_type": "code",
   "execution_count": 13,
   "id": "557b8b97-b806-4195-ac09-45417c4fea24",
   "metadata": {},
   "outputs": [
    {
     "data": {
      "image/png": "[encoded data removed]",
      "text/plain": [
       "<Figure size 640x480 with 1 Axes>"
      ]
     },
     "metadata": {},
     "output_type": "display_data"
    }
   ],
   "source": [
    "# Convert labels to numeric format\n",
    "label_encoder = LabelEncoder()\n",
    "df.loc[:, 'label_encoded'] = label_encoder.fit_transform(df['label'])\n",
    "df.loc[:, 'sentiment_encoded'] = label_encoder.transform(df['sentiment'])\n",
    "\n",
    "# Binarize the labels for ROC\n",
    "y_test = label_binarize(df['label_encoded'], classes=[0, 1, 2])\n",
    "y_score = label_binarize(df['sentiment_encoded'], classes=[0, 1, 2])\n",
    "\n",
    "n_classes = y_test.shape[1]\n",
    "\n",
    "# Compute ROC curve and ROC area for each class\n",
    "fpr = dict()\n",
    "tpr = dict()\n",
    "roc_auc = dict()\n",
    "for i in range(n_classes):\n",
    "    fpr[i], tpr[i], _ = roc_curve(y_test[:, i], y_score[:, i])\n",
    "    roc_auc[i] = auc(fpr[i], tpr[i])\n",
    "\n",
    "# Plot ROC curve for each class\n",
    "plt.figure()\n",
    "colors = cycle(['blue', 'red', 'green'])\n",
    "for i, color in zip(range(n_classes), colors):\n",
    "    plt.plot(fpr[i], tpr[i], color=color, lw=2,\n",
    "             label='ROC curve of class {0} (area = {1:0.2f})'\n",
    "             ''.format(label_encoder.classes_[i], roc_auc[i]))\n",
    "\n",
    "plt.plot([0, 1], [0, 1], 'k--', lw=2)\n",
    "plt.xlim([0.0, 1.0])\n",
    "plt.ylim([0.0, 1.05])\n",
    "plt.xlabel('False Positive Rate')\n",
    "plt.ylabel('True Positive Rate')\n",
    "plt.title('(ROC) Curve VADER')\n",
    "plt.legend(loc=\"lower right\")\n",
    "plt.show()"
   ]
  },
  {
   "cell_type": "markdown",
   "id": "0b282b24",
   "metadata": {},
   "source": [
    "The ROC curve for VADER is very close to the top-left corner of the plot. The AUC (Area Under the Curve) scores for all three classes (negative, neutral, and positive) are above 0.9, indicating excellent performance in distinguishing between sentiment classes."
   ]
  },
  {
   "cell_type": "code",
   "execution_count": null,
   "id": "5d66f89a-752e-43f2-9b46-81fab2b4eaf6",
   "metadata": {},
   "outputs": [],
   "source": []
  }
 ],
 "metadata": {
  "kernelspec": {
   "display_name": "Python 3 (ipykernel)",
   "language": "python",
   "name": "python3"
  },
  "language_info": {
   "codemirror_mode": {
    "name": "ipython",
    "version": 3
   },
   "file_extension": ".py",
   "mimetype": "text/x-python",
   "name": "python",
   "nbconvert_exporter": "python",
   "pygments_lexer": "ipython3",
   "version": "3.11.5"
  }
 },
 "nbformat": 4,
 "nbformat_minor": 5
}
