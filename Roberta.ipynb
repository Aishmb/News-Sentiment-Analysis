{
 "cells": [
  {
   "cell_type": "code",
   "execution_count": 1,
   "id": "f1a455a5-9388-4bcc-80d9-40540a781ede",
   "metadata": {},
   "outputs": [
    {
     "name": "stderr",
     "output_type": "stream",
     "text": [
      "C:\\Users\\aqibs\\AppData\\Roaming\\Python\\Python310\\site-packages\\tqdm\\auto.py:22: TqdmWarning: IProgress not found. Please update jupyter and ipywidgets. See https://ipywidgets.readthedocs.io/en/stable/user_install.html\n",
      "  from .autonotebook import tqdm as notebook_tqdm\n"
     ]
    }
   ],
   "source": [
    "#imports\n",
    "import pandas as pd\n",
    "import numpy as np\n",
    "import torch\n",
    "import re\n",
    "import nltk\n",
    "from nltk.corpus import stopwords\n",
    "from sklearn.model_selection import train_test_split\n",
    "from sklearn.preprocessing import LabelBinarizer\n",
    "from sklearn.metrics import classification_report, roc_curve, auc\n",
    "import matplotlib.pyplot as plt\n",
    "from transformers import RobertaTokenizer, RobertaForSequenceClassification, Trainer, TrainingArguments\n",
    "import nltk\n",
    "from transformers import Trainer, TrainingArguments\n",
    "import torch\n",
    "import logging\n",
    "import random\n",
    "import warnings\n",
    "warnings.filterwarnings(\"ignore\")"
   ]
  },
  {
   "cell_type": "markdown",
   "id": "44ece413",
   "metadata": {},
   "source": [
    "* Had to reduce the dataset to train the model as kernel was failing because of low compute"
   ]
  },
  {
   "cell_type": "code",
   "execution_count": 2,
   "id": "05f8ca7e-0dcc-4f2b-949b-bcf6b6d477f4",
   "metadata": {},
   "outputs": [],
   "source": [
    "df = pd.read_csv(r\"C:/Users/abhure/Documents/SEM3/Text Analytics/Project/Data/raw data/RoBERTaWeaklyLabelling.csv\", encoding='utf-8')"
   ]
  },
  {
   "cell_type": "code",
   "execution_count": 3,
   "id": "06a6a1ea-b15e-481c-ad18-aa4811b738be",
   "metadata": {},
   "outputs": [],
   "source": [
    "#drop null values\n",
    "df.dropna(inplace=True)"
   ]
  },
  {
   "cell_type": "code",
   "execution_count": 4,
   "id": "c33073df-f525-418b-9b11-d02d47073b50",
   "metadata": {},
   "outputs": [
    {
     "name": "stderr",
     "output_type": "stream",
     "text": [
      "[nltk_data] Downloading package stopwords to\n",
      "[nltk_data]     C:\\Users\\aqibs\\AppData\\Roaming\\nltk_data...\n",
      "[nltk_data]   Package stopwords is already up-to-date!\n"
     ]
    }
   ],
   "source": [
    "nltk.download('stopwords')\n",
    "stop_words = set(stopwords.words('english'))"
   ]
  },
  {
   "cell_type": "code",
   "execution_count": 5,
   "id": "ae2a9cb5-06a3-4b4a-b4f3-8aed4534732f",
   "metadata": {},
   "outputs": [],
   "source": [
    "#preprocessing\n",
    "def preprocess_text(text):\n",
    "    text = re.sub(r'http\\S+', '', text)  # remove URLs\n",
    "    text = re.sub(r'<.*?>', '', text)    # remove HTML tags\n",
    "    text = re.sub(r'[^a-zA-Z]', ' ', text)  # remove non-alphabetic characters\n",
    "    text = text.lower()  # convert to lowercase\n",
    "    text = ' '.join([word for word in text.split() if word not in stop_words])  # remove stopwords\n",
    "    return text\n",
    "\n",
    "df['news'] = df['news'].apply(preprocess_text)"
   ]
  },
  {
   "cell_type": "code",
   "execution_count": 6,
   "id": "463bd5c8-8535-4869-b907-80ed1595492a",
   "metadata": {},
   "outputs": [
    {
     "name": "stdout",
     "output_type": "stream",
     "text": [
      "['positive' 'negative' 'neutral']\n"
     ]
    }
   ],
   "source": [
    "#converting all the labels to lower case\n",
    "df['label'] = df['label'].apply(lambda x: x.lower())\n",
    "unique_labels = df['label'].unique()\n",
    "print(unique_labels)\n",
    "df.dropna(inplace=True)"
   ]
  },
  {
   "cell_type": "code",
   "execution_count": 7,
   "id": "80b28fb4-35c3-4db0-afe0-0c7ff32e6381",
   "metadata": {},
   "outputs": [
    {
     "name": "stdout",
     "output_type": "stream",
     "text": [
      "[0 1 2]\n"
     ]
    }
   ],
   "source": [
    "# Map labels to integers\n",
    "label_mapping = {'positive': 0, 'negative': 1, 'neutral': 2}\n",
    "df['label'] = df['label'].map(label_mapping)\n",
    "unique_labels = df['label'].unique()\n",
    "print(unique_labels)"
   ]
  },
  {
   "cell_type": "code",
   "execution_count": 8,
   "id": "08d3338c-9cc4-4ce2-867f-e53fceca38cb",
   "metadata": {},
   "outputs": [],
   "source": [
    "# Split data into train and test sets\n",
    "train_texts, test_texts, train_labels, test_labels = train_test_split(df['news'], df['label'], test_size=0.2, random_state=42)"
   ]
  },
  {
   "cell_type": "code",
   "execution_count": 9,
   "id": "5dc503b5-5c22-4817-9908-2fc1e7575447",
   "metadata": {},
   "outputs": [
    {
     "name": "stdout",
     "output_type": "stream",
     "text": [
      "1600 1600\n",
      "400 400\n"
     ]
    }
   ],
   "source": [
    "print(len(train_texts), len(train_labels))\n",
    "print(len(test_texts), len(test_labels))"
   ]
  },
  {
   "cell_type": "code",
   "execution_count": 10,
   "id": "7b8d3136-9c15-468a-8c22-cce8ae7bc742",
   "metadata": {},
   "outputs": [
    {
     "name": "stderr",
     "output_type": "stream",
     "text": [
      "Some weights of the model checkpoint at roberta-base were not used when initializing RobertaForSequenceClassification: ['lm_head.layer_norm.bias', 'lm_head.layer_norm.weight', 'lm_head.dense.bias', 'roberta.pooler.dense.bias', 'roberta.pooler.dense.weight', 'lm_head.bias', 'lm_head.decoder.weight', 'lm_head.dense.weight']\n",
      "- This IS expected if you are initializing RobertaForSequenceClassification from the checkpoint of a model trained on another task or with another architecture (e.g. initializing a BertForSequenceClassification model from a BertForPreTraining model).\n",
      "- This IS NOT expected if you are initializing RobertaForSequenceClassification from the checkpoint of a model that you expect to be exactly identical (initializing a BertForSequenceClassification model from a BertForSequenceClassification model).\n",
      "Some weights of RobertaForSequenceClassification were not initialized from the model checkpoint at roberta-base and are newly initialized: ['classifier.out_proj.bias', 'classifier.dense.bias', 'classifier.out_proj.weight', 'classifier.dense.weight']\n",
      "You should probably TRAIN this model on a down-stream task to be able to use it for predictions and inference.\n"
     ]
    }
   ],
   "source": [
    "# Load tokenizer and model\n",
    "model_name = 'roberta-base'\n",
    "tokenizer = RobertaTokenizer.from_pretrained(model_name)\n",
    "model = RobertaForSequenceClassification.from_pretrained(model_name, num_labels=3)"
   ]
  },
  {
   "cell_type": "code",
   "execution_count": 11,
   "id": "cede9a1c-3f6d-4a82-932f-85900e94a4d9",
   "metadata": {},
   "outputs": [
    {
     "name": "stdout",
     "output_type": "stream",
     "text": [
      "Train encodings shape: torch.Size([1600, 512])\n",
      "Train labels length: 1600\n",
      "Test encodings shape: torch.Size([400, 512])\n",
      "Test labels length: 400\n"
     ]
    }
   ],
   "source": [
    "def tokenize_function(texts):\n",
    "    return tokenizer(texts, padding='max_length', truncation=True, return_tensors='pt')\n",
    "\n",
    "train_encodings = tokenize_function(train_texts.tolist())\n",
    "test_encodings = tokenize_function(test_texts.tolist())\n",
    "\n",
    "# Convert labels to tensors\n",
    "train_labels = torch.tensor(train_labels.values, dtype=torch.long)\n",
    "test_labels = torch.tensor(test_labels.values, dtype=torch.long)\n",
    "\n",
    "# Print shapes and lengths to verify alignment\n",
    "print(\"Train encodings shape:\", train_encodings['input_ids'].shape)\n",
    "print(\"Train labels length:\", len(train_labels))\n",
    "print(\"Test encodings shape:\", test_encodings['input_ids'].shape)\n",
    "print(\"Test labels length:\", len(test_labels))"
   ]
  },
  {
   "cell_type": "code",
   "execution_count": 12,
   "id": "7066aefc-f399-4e2e-9f9f-5553f3f66571",
   "metadata": {},
   "outputs": [
    {
     "name": "stdout",
     "output_type": "stream",
     "text": [
      "Train labels sample: tensor([2, 0, 2, 2, 0, 0, 2, 0, 2, 2])\n",
      "Test labels sample: tensor([1, 0, 2, 0, 2, 2, 2, 1, 1, 1])\n"
     ]
    }
   ],
   "source": [
    "print(\"Train labels sample:\", train_labels[:10])  \n",
    "print(\"Test labels sample:\", test_labels[:10])"
   ]
  },
  {
   "cell_type": "code",
   "execution_count": 13,
   "id": "cdf10150-8f8b-44d8-8c02-922f92b72456",
   "metadata": {},
   "outputs": [],
   "source": [
    "#custom Dataset class inheriting from PyTorch's Dataset class.\n",
    "class NewsDataset(torch.utils.data.Dataset):\n",
    "    def __init__(self, encodings, labels):# Store the encodings and labels as class attributes.\n",
    "        self.encodings = encodings\n",
    "        self.labels = labels\n",
    "\n",
    "    # Retrieve a single sample from the dataset at the specified index\n",
    "    def __getitem__(self, idx):\n",
    "        item = {key: torch.tensor(val[idx]) for key, val in self.encodings.items()}\n",
    "        item['labels'] = self.labels[idx]  # Use the label directly\n",
    "        return item\n",
    "\n",
    "    # Return the total number of samples in the dataset.\n",
    "    def __len__(self):\n",
    "        return len(self.labels)\n",
    "\n",
    "\n",
    "train_dataset = NewsDataset(train_encodings, train_labels)\n",
    "test_dataset = NewsDataset(test_encodings, test_labels)"
   ]
  },
  {
   "cell_type": "code",
   "execution_count": 14,
   "id": "6f999976-7e2d-483c-8491-9e41fc0e382b",
   "metadata": {},
   "outputs": [
    {
     "name": "stdout",
     "output_type": "stream",
     "text": [
      "Train labels shape in dataset: torch.Size([1600])\n",
      "Test labels shape in dataset: torch.Size([400])\n"
     ]
    }
   ],
   "source": [
    "print(\"Train labels shape in dataset:\", train_labels.shape)\n",
    "print(\"Test labels shape in dataset:\", test_labels.shape)"
   ]
  },
  {
   "cell_type": "code",
   "execution_count": 15,
   "id": "435e73ed-6d41-4ff2-b564-34f6a3430f96",
   "metadata": {},
   "outputs": [],
   "source": [
    "#validating the values in the dataset\n",
    "def validate_dataset(dataset, num_samples=10):\n",
    "    num_classes = 3  # Update with your actual number of classes\n",
    "    indices = random.sample(range(len(dataset)), min(num_samples, len(dataset)))   # Sample a few indices randomly from the dataset.\n",
    "    for i in indices:\n",
    "        item = dataset[i]\n",
    "        labels = item['labels']\n",
    "        if isinstance(labels, torch.Tensor):\n",
    "            if torch.any(labels < 0) or torch.any(labels >= num_classes):# Check if any label is outside the valid range [0, num_classes)\n",
    "                print(f\"Invalid label at index {i}: {labels}\")\n",
    "        else:\n",
    "            print(f\"Label at index {i} is not a tensor: {labels}\")\n",
    "\n",
    "# Validate a few samples from the datasets\n",
    "validate_dataset(train_dataset, num_samples=10)\n",
    "validate_dataset(test_dataset, num_samples=10)"
   ]
  },
  {
   "cell_type": "code",
   "execution_count": 16,
   "id": "674b6157-bdd6-42e0-8ecf-b0f92a8aa09e",
   "metadata": {},
   "outputs": [
    {
     "name": "stderr",
     "output_type": "stream",
     "text": [
      "  0%|          | 0/100 [00:00<?, ?it/s]INFO:__main__:Step 0: Loss = 1.055877685546875\n",
      "  1%|          | 1/100 [00:16<26:39, 16.16s/it]INFO:__main__:Step 1: Loss = 1.174163818359375\n",
      "  2%|▏         | 2/100 [00:30<24:54, 15.25s/it]INFO:__main__:Step 2: Loss = 1.092742919921875\n",
      "  3%|▎         | 3/100 [00:44<23:17, 14.41s/it]INFO:__main__:Step 3: Loss = 1.0997314453125\n",
      "  4%|▍         | 4/100 [00:57<22:21, 13.98s/it]INFO:__main__:Step 4: Loss = 1.07879638671875\n",
      "  5%|▌         | 5/100 [01:10<21:48, 13.78s/it]INFO:__main__:Step 5: Loss = 1.084442138671875\n",
      "  6%|▌         | 6/100 [01:24<21:23, 13.66s/it]INFO:__main__:Step 6: Loss = 1.070068359375\n",
      "  7%|▋         | 7/100 [01:37<21:03, 13.59s/it]INFO:__main__:Step 7: Loss = 1.0841064453125\n",
      "  8%|▊         | 8/100 [01:51<20:41, 13.50s/it]INFO:__main__:Step 8: Loss = 0.96533203125\n",
      "  9%|▉         | 9/100 [02:04<20:24, 13.46s/it]INFO:__main__:Step 9: Loss = 1.0587615966796875\n",
      " 10%|█         | 10/100 [02:17<20:08, 13.43s/it]INFO:__main__:Epoch 0.1: {'loss': 1.0764, 'learning_rate': 4.5e-05, 'epoch': 0.1}\n"
     ]
    },
    {
     "name": "stdout",
     "output_type": "stream",
     "text": [
      "{'loss': 1.0764, 'learning_rate': 4.5e-05, 'epoch': 0.1}\n"
     ]
    },
    {
     "name": "stderr",
     "output_type": "stream",
     "text": [
      "INFO:__main__:Step 10: Loss = 1.124481201171875\n",
      " 11%|█         | 11/100 [02:31<19:54, 13.42s/it]INFO:__main__:Step 11: Loss = 1.1659698486328125\n",
      " 12%|█▏        | 12/100 [02:44<19:39, 13.40s/it]INFO:__main__:Step 12: Loss = 1.062225341796875\n",
      " 13%|█▎        | 13/100 [02:58<19:26, 13.41s/it]INFO:__main__:Step 13: Loss = 1.0090484619140625\n",
      " 14%|█▍        | 14/100 [03:11<19:09, 13.36s/it]INFO:__main__:Step 14: Loss = 1.06298828125\n",
      " 15%|█▌        | 15/100 [03:24<18:55, 13.36s/it]INFO:__main__:Step 15: Loss = 1.0132598876953125\n",
      " 16%|█▌        | 16/100 [03:38<18:42, 13.37s/it]INFO:__main__:Step 16: Loss = 1.07916259765625\n",
      " 17%|█▋        | 17/100 [03:51<18:29, 13.37s/it]INFO:__main__:Step 17: Loss = 1.157867431640625\n",
      " 18%|█▊        | 18/100 [04:04<18:09, 13.28s/it]INFO:__main__:Step 18: Loss = 0.9697113037109375\n",
      " 19%|█▉        | 19/100 [04:17<17:58, 13.32s/it]INFO:__main__:Step 19: Loss = 1.1572418212890625\n",
      " 20%|██        | 20/100 [04:31<17:45, 13.32s/it]INFO:__main__:Epoch 0.2: {'loss': 1.0802, 'learning_rate': 4.05e-05, 'epoch': 0.2}\n"
     ]
    },
    {
     "name": "stdout",
     "output_type": "stream",
     "text": [
      "{'loss': 1.0802, 'learning_rate': 4.05e-05, 'epoch': 0.2}\n"
     ]
    },
    {
     "name": "stderr",
     "output_type": "stream",
     "text": [
      "INFO:__main__:Step 20: Loss = 1.1170654296875\n",
      " 21%|██        | 21/100 [04:44<17:33, 13.33s/it]INFO:__main__:Step 21: Loss = 1.25286865234375\n",
      " 22%|██▏       | 22/100 [04:57<17:18, 13.32s/it]INFO:__main__:Step 22: Loss = 0.989288330078125\n",
      " 23%|██▎       | 23/100 [05:11<17:06, 13.33s/it]INFO:__main__:Step 23: Loss = 0.9994354248046875\n",
      " 24%|██▍       | 24/100 [05:24<16:54, 13.34s/it]INFO:__main__:Step 24: Loss = 0.9525299072265625\n",
      " 25%|██▌       | 25/100 [05:37<16:41, 13.35s/it]INFO:__main__:Step 25: Loss = 0.914520263671875\n",
      " 26%|██▌       | 26/100 [05:51<16:28, 13.36s/it]INFO:__main__:Step 26: Loss = 0.89300537109375\n",
      " 27%|██▋       | 27/100 [06:04<16:17, 13.39s/it]INFO:__main__:Step 27: Loss = 1.04425048828125\n",
      " 28%|██▊       | 28/100 [06:18<16:04, 13.39s/it]INFO:__main__:Step 28: Loss = 0.982391357421875\n",
      " 29%|██▉       | 29/100 [06:31<15:51, 13.40s/it]INFO:__main__:Step 29: Loss = 0.8659210205078125\n",
      " 30%|███       | 30/100 [06:44<15:37, 13.39s/it]INFO:__main__:Epoch 0.3: {'loss': 1.0011, 'learning_rate': 3.55e-05, 'epoch': 0.3}\n"
     ]
    },
    {
     "name": "stdout",
     "output_type": "stream",
     "text": [
      "{'loss': 1.0011, 'learning_rate': 3.55e-05, 'epoch': 0.3}\n"
     ]
    },
    {
     "name": "stderr",
     "output_type": "stream",
     "text": [
      "INFO:__main__:Step 30: Loss = 0.91680908203125\n",
      " 31%|███       | 31/100 [06:58<15:23, 13.38s/it]INFO:__main__:Step 31: Loss = 1.0347137451171875\n",
      " 32%|███▏      | 32/100 [07:11<15:08, 13.36s/it]INFO:__main__:Step 32: Loss = 0.8769683837890625\n",
      " 33%|███▎      | 33/100 [07:24<14:54, 13.36s/it]INFO:__main__:Step 33: Loss = 0.88623046875\n",
      " 34%|███▍      | 34/100 [07:38<14:42, 13.37s/it]INFO:__main__:Step 34: Loss = 0.9668731689453125\n",
      " 35%|███▌      | 35/100 [07:51<14:29, 13.38s/it]INFO:__main__:Step 35: Loss = 1.0275650024414062\n",
      " 36%|███▌      | 36/100 [08:05<14:14, 13.34s/it]INFO:__main__:Step 36: Loss = 0.96234130859375\n",
      " 37%|███▋      | 37/100 [08:18<14:00, 13.33s/it]INFO:__main__:Step 37: Loss = 1.078216552734375\n",
      " 38%|███▊      | 38/100 [08:31<13:50, 13.39s/it]INFO:__main__:Step 38: Loss = 0.8376617431640625\n",
      " 39%|███▉      | 39/100 [08:45<13:38, 13.42s/it]INFO:__main__:Step 39: Loss = 0.869171142578125\n",
      " 40%|████      | 40/100 [08:58<13:25, 13.42s/it]INFO:__main__:Epoch 0.4: {'loss': 0.9457, 'learning_rate': 3.1e-05, 'epoch': 0.4}\n"
     ]
    },
    {
     "name": "stdout",
     "output_type": "stream",
     "text": [
      "{'loss': 0.9457, 'learning_rate': 3.1e-05, 'epoch': 0.4}\n"
     ]
    },
    {
     "name": "stderr",
     "output_type": "stream",
     "text": [
      "INFO:__main__:Step 40: Loss = 0.9049530029296875\n",
      " 41%|████      | 41/100 [09:12<13:12, 13.43s/it]INFO:__main__:Step 41: Loss = 1.059814453125\n",
      " 42%|████▏     | 42/100 [09:25<12:56, 13.39s/it]INFO:__main__:Step 42: Loss = 0.660369873046875\n",
      " 43%|████▎     | 43/100 [09:38<12:44, 13.42s/it]INFO:__main__:Step 43: Loss = 0.97882080078125\n",
      " 44%|████▍     | 44/100 [09:52<12:29, 13.39s/it]INFO:__main__:Step 44: Loss = 0.801849365234375\n",
      " 45%|████▌     | 45/100 [10:05<12:15, 13.38s/it]INFO:__main__:Step 45: Loss = 0.9466094970703125\n",
      " 46%|████▌     | 46/100 [10:19<12:02, 13.38s/it]INFO:__main__:Step 46: Loss = 0.7385330200195312\n",
      " 47%|████▋     | 47/100 [10:32<11:49, 13.39s/it]INFO:__main__:Step 47: Loss = 0.7769088745117188\n",
      " 48%|████▊     | 48/100 [10:45<11:35, 13.38s/it]INFO:__main__:Step 48: Loss = 1.0663604736328125\n",
      " 49%|████▉     | 49/100 [10:59<11:22, 13.39s/it]INFO:__main__:Step 49: Loss = 0.7896575927734375\n",
      " 50%|█████     | 50/100 [11:12<11:08, 13.38s/it]INFO:__main__:Epoch 0.5: {'loss': 0.8724, 'learning_rate': 2.6000000000000002e-05, 'epoch': 0.5}\n"
     ]
    },
    {
     "name": "stdout",
     "output_type": "stream",
     "text": [
      "{'loss': 0.8724, 'learning_rate': 2.6000000000000002e-05, 'epoch': 0.5}\n"
     ]
    },
    {
     "name": "stderr",
     "output_type": "stream",
     "text": [
      "INFO:__main__:Step 50: Loss = 0.8303070068359375\n",
      " 51%|█████     | 51/100 [11:26<10:56, 13.39s/it]INFO:__main__:Step 51: Loss = 1.037506103515625\n",
      " 52%|█████▏    | 52/100 [11:39<10:41, 13.36s/it]INFO:__main__:Step 52: Loss = 0.988067626953125\n",
      " 53%|█████▎    | 53/100 [11:52<10:28, 13.36s/it]INFO:__main__:Step 53: Loss = 0.9875640869140625\n",
      " 54%|█████▍    | 54/100 [12:05<10:13, 13.35s/it]INFO:__main__:Step 54: Loss = 1.1230926513671875\n",
      " 55%|█████▌    | 55/100 [12:19<10:01, 13.37s/it]INFO:__main__:Step 55: Loss = 0.842742919921875\n",
      " 56%|█████▌    | 56/100 [12:32<09:48, 13.37s/it]INFO:__main__:Step 56: Loss = 0.818572998046875\n",
      " 57%|█████▋    | 57/100 [12:46<09:34, 13.36s/it]INFO:__main__:Step 57: Loss = 0.9741058349609375\n",
      " 58%|█████▊    | 58/100 [12:59<09:20, 13.36s/it]INFO:__main__:Step 58: Loss = 0.7047576904296875\n",
      " 59%|█████▉    | 59/100 [13:12<09:07, 13.35s/it]INFO:__main__:Step 59: Loss = 0.8511199951171875\n",
      " 60%|██████    | 60/100 [13:26<08:53, 13.33s/it]INFO:__main__:Epoch 0.6: {'loss': 0.9158, 'learning_rate': 2.1e-05, 'epoch': 0.6}\n"
     ]
    },
    {
     "name": "stdout",
     "output_type": "stream",
     "text": [
      "{'loss': 0.9158, 'learning_rate': 2.1e-05, 'epoch': 0.6}\n"
     ]
    },
    {
     "name": "stderr",
     "output_type": "stream",
     "text": [
      "INFO:__main__:Step 60: Loss = 0.8796234130859375\n",
      " 61%|██████    | 61/100 [13:39<08:39, 13.31s/it]INFO:__main__:Step 61: Loss = 1.1522674560546875\n",
      " 62%|██████▏   | 62/100 [13:52<08:24, 13.29s/it]INFO:__main__:Step 62: Loss = 0.8315277099609375\n",
      " 63%|██████▎   | 63/100 [14:05<08:11, 13.28s/it]INFO:__main__:Step 63: Loss = 0.7352142333984375\n",
      " 64%|██████▍   | 64/100 [14:19<07:57, 13.27s/it]INFO:__main__:Step 64: Loss = 0.5854339599609375\n",
      " 65%|██████▌   | 65/100 [14:32<07:44, 13.27s/it]INFO:__main__:Step 65: Loss = 0.71429443359375\n",
      " 66%|██████▌   | 66/100 [14:45<07:31, 13.28s/it]INFO:__main__:Step 66: Loss = 0.7305679321289062\n",
      " 67%|██████▋   | 67/100 [14:58<07:18, 13.28s/it]INFO:__main__:Step 67: Loss = 1.0880126953125\n",
      " 68%|██████▊   | 68/100 [15:12<07:05, 13.29s/it]INFO:__main__:Step 68: Loss = 0.975128173828125\n",
      " 69%|██████▉   | 69/100 [15:25<06:52, 13.29s/it]INFO:__main__:Step 69: Loss = 0.7216415405273438\n",
      " 70%|███████   | 70/100 [15:38<06:39, 13.31s/it]INFO:__main__:Epoch 0.7: {'loss': 0.8414, 'learning_rate': 1.6000000000000003e-05, 'epoch': 0.7}\n"
     ]
    },
    {
     "name": "stdout",
     "output_type": "stream",
     "text": [
      "{'loss': 0.8414, 'learning_rate': 1.6000000000000003e-05, 'epoch': 0.7}\n"
     ]
    },
    {
     "name": "stderr",
     "output_type": "stream",
     "text": [
      "INFO:__main__:Step 70: Loss = 0.90155029296875\n",
      " 71%|███████   | 71/100 [15:52<06:25, 13.29s/it]INFO:__main__:Step 71: Loss = 0.9412994384765625\n",
      " 72%|███████▏  | 72/100 [16:05<06:11, 13.28s/it]INFO:__main__:Step 72: Loss = 0.6202468872070312\n",
      " 73%|███████▎  | 73/100 [16:18<05:58, 13.29s/it]INFO:__main__:Step 73: Loss = 1.0068359375\n",
      " 74%|███████▍  | 74/100 [16:32<05:45, 13.29s/it]INFO:__main__:Step 74: Loss = 0.813262939453125\n",
      " 75%|███████▌  | 75/100 [16:45<05:32, 13.28s/it]INFO:__main__:Step 75: Loss = 0.93267822265625\n",
      " 76%|███████▌  | 76/100 [16:58<05:19, 13.29s/it]INFO:__main__:Step 76: Loss = 0.79833984375\n",
      " 77%|███████▋  | 77/100 [17:11<05:04, 13.25s/it]INFO:__main__:Step 77: Loss = 0.7759780883789062\n",
      " 78%|███████▊  | 78/100 [17:24<04:50, 13.20s/it]INFO:__main__:Step 78: Loss = 0.9519920349121094\n",
      " 79%|███████▉  | 79/100 [17:38<04:37, 13.20s/it]INFO:__main__:Step 79: Loss = 0.8557929992675781\n",
      " 80%|████████  | 80/100 [17:51<04:23, 13.19s/it]INFO:__main__:Epoch 0.8: {'loss': 0.8598, 'learning_rate': 1.1000000000000001e-05, 'epoch': 0.8}\n"
     ]
    },
    {
     "name": "stdout",
     "output_type": "stream",
     "text": [
      "{'loss': 0.8598, 'learning_rate': 1.1000000000000001e-05, 'epoch': 0.8}\n"
     ]
    },
    {
     "name": "stderr",
     "output_type": "stream",
     "text": [
      "INFO:__main__:Step 80: Loss = 0.7581558227539062\n",
      " 81%|████████  | 81/100 [18:04<04:11, 13.21s/it]INFO:__main__:Step 81: Loss = 0.6319732666015625\n",
      " 82%|████████▏ | 82/100 [18:17<03:57, 13.22s/it]INFO:__main__:Step 82: Loss = 0.8402214050292969\n",
      " 83%|████████▎ | 83/100 [18:30<03:44, 13.20s/it]INFO:__main__:Step 83: Loss = 1.384918212890625\n",
      " 84%|████████▍ | 84/100 [18:44<03:31, 13.23s/it]INFO:__main__:Step 84: Loss = 0.7370223999023438\n",
      " 85%|████████▌ | 85/100 [18:57<03:18, 13.22s/it]INFO:__main__:Step 85: Loss = 1.0070114135742188\n",
      " 86%|████████▌ | 86/100 [19:10<03:05, 13.26s/it]INFO:__main__:Step 86: Loss = 0.8953475952148438\n",
      " 87%|████████▋ | 87/100 [19:24<02:52, 13.28s/it]INFO:__main__:Step 87: Loss = 0.6429901123046875\n",
      " 88%|████████▊ | 88/100 [19:37<02:39, 13.30s/it]INFO:__main__:Step 88: Loss = 1.0823974609375\n",
      " 89%|████████▉ | 89/100 [19:50<02:26, 13.29s/it]INFO:__main__:Step 89: Loss = 0.8028411865234375\n",
      " 90%|█████████ | 90/100 [20:03<02:12, 13.29s/it]INFO:__main__:Epoch 0.9: {'loss': 0.8783, 'learning_rate': 6e-06, 'epoch': 0.9}\n"
     ]
    },
    {
     "name": "stdout",
     "output_type": "stream",
     "text": [
      "{'loss': 0.8783, 'learning_rate': 6e-06, 'epoch': 0.9}\n"
     ]
    },
    {
     "name": "stderr",
     "output_type": "stream",
     "text": [
      "INFO:__main__:Step 90: Loss = 0.6775360107421875\n",
      " 91%|█████████ | 91/100 [20:17<01:59, 13.27s/it]INFO:__main__:Step 91: Loss = 0.6930770874023438\n",
      " 92%|█████████▏| 92/100 [20:30<01:46, 13.29s/it]INFO:__main__:Step 92: Loss = 0.80206298828125\n",
      " 93%|█████████▎| 93/100 [20:43<01:33, 13.29s/it]INFO:__main__:Step 93: Loss = 0.927459716796875\n",
      " 94%|█████████▍| 94/100 [20:56<01:19, 13.26s/it]INFO:__main__:Step 94: Loss = 0.9910812377929688\n",
      " 95%|█████████▌| 95/100 [21:10<01:06, 13.25s/it]INFO:__main__:Step 95: Loss = 0.796600341796875\n",
      " 96%|█████████▌| 96/100 [21:23<00:53, 13.26s/it]INFO:__main__:Step 96: Loss = 0.7436141967773438\n",
      " 97%|█████████▋| 97/100 [21:36<00:39, 13.28s/it]INFO:__main__:Step 97: Loss = 0.8482437133789062\n",
      " 98%|█████████▊| 98/100 [21:50<00:26, 13.29s/it]INFO:__main__:Step 98: Loss = 0.6673736572265625\n",
      " 99%|█████████▉| 99/100 [22:03<00:13, 13.28s/it]INFO:__main__:Step 99: Loss = 1.1020965576171875\n",
      "100%|██████████| 100/100 [22:16<00:00, 13.29s/it]INFO:__main__:Epoch 1.0: {'loss': 0.8249, 'learning_rate': 1.0000000000000002e-06, 'epoch': 1.0}\n"
     ]
    },
    {
     "name": "stdout",
     "output_type": "stream",
     "text": [
      "{'loss': 0.8249, 'learning_rate': 1.0000000000000002e-06, 'epoch': 1.0}\n"
     ]
    },
    {
     "name": "stderr",
     "output_type": "stream",
     "text": [
      "                                                 \n",
      "100%|██████████| 100/100 [23:06<00:00, 13.29s/it]INFO:__main__:Epoch 1.0: {'eval_loss': 0.8407092094421387, 'eval_runtime': 49.4062, 'eval_samples_per_second': 8.096, 'eval_steps_per_second': 0.506, 'epoch': 1.0}\n",
      "100%|██████████| 100/100 [23:06<00:00, 13.29s/it]INFO:__main__:Epoch 1.0: {'train_runtime': 1386.1383, 'train_samples_per_second': 1.154, 'train_steps_per_second': 0.072, 'train_loss': 0.9295923233032226, 'epoch': 1.0}\n",
      "100%|██████████| 100/100 [23:06<00:00, 13.86s/it]\n"
     ]
    },
    {
     "name": "stdout",
     "output_type": "stream",
     "text": [
      "{'eval_loss': 0.8407092094421387, 'eval_runtime': 49.4062, 'eval_samples_per_second': 8.096, 'eval_steps_per_second': 0.506, 'epoch': 1.0}\n",
      "{'train_runtime': 1386.1383, 'train_samples_per_second': 1.154, 'train_steps_per_second': 0.072, 'train_loss': 0.9295923233032226, 'epoch': 1.0}\n"
     ]
    },
    {
     "name": "stderr",
     "output_type": "stream",
     "text": [
      "100%|██████████| 25/25 [00:47<00:00,  1.96s/it]INFO:__main__:Epoch 1.0: {'eval_loss': 0.8407092094421387, 'eval_runtime': 49.4122, 'eval_samples_per_second': 8.095, 'eval_steps_per_second': 0.506, 'epoch': 1.0}\n",
      "100%|██████████| 25/25 [00:49<00:00,  1.98s/it]"
     ]
    },
    {
     "name": "stdout",
     "output_type": "stream",
     "text": [
      "Evaluation results: {'eval_loss': 0.8407092094421387, 'eval_runtime': 49.4122, 'eval_samples_per_second': 8.095, 'eval_steps_per_second': 0.506, 'epoch': 1.0}\n"
     ]
    },
    {
     "name": "stderr",
     "output_type": "stream",
     "text": [
      "\n"
     ]
    }
   ],
   "source": [
    "# Set up logging\n",
    "logger = logging.getLogger(__name__)\n",
    "logging.basicConfig(level=logging.INFO)\n",
    "\n",
    "class CustomTrainer(Trainer):\n",
    "    def __init__(self, *args, **kwargs):\n",
    "        super().__init__(*args, **kwargs)\n",
    "        self.step = 0\n",
    "\n",
    "    def training_step(self, model, inputs):\n",
    "        outputs = super().training_step(model, inputs)# Perform the standard training step and get the outputs\n",
    "\n",
    "        # Log loss and other metrics\n",
    "        if isinstance(outputs, torch.Tensor):\n",
    "            loss = outputs\n",
    "        else:\n",
    "            loss = outputs.get('loss', None)\n",
    "\n",
    "        # Log the loss if it exists\n",
    "        if loss is not None:\n",
    "            logger.info(f\"Step {self.step}: Loss = {loss.item()}\")\n",
    "        self.step += 1\n",
    "\n",
    "        return outputs\n",
    "\n",
    "    def log(self, logs: dict):\n",
    "        super().log(logs)\n",
    "        # Log additional metrics if needed\n",
    "        logger.info(f\"Epoch {self.state.epoch}: {logs}\")\n",
    "\n",
    "training_args = TrainingArguments(\n",
    "    output_dir='./results',\n",
    "    num_train_epochs=1,\n",
    "    per_device_train_batch_size=16,\n",
    "    per_device_eval_batch_size=16,\n",
    "    warmup_steps=0,\n",
    "    weight_decay=0.01,  # Weight decay for regularization\n",
    "    learning_rate=5e-5,  # Learning rate for optimization\n",
    "    logging_dir='./logs',\n",
    "    evaluation_strategy='epoch',\n",
    "    logging_steps=10,\n",
    "    fp16=True,  # Enable mixed precision training\n",
    ")\n",
    "\n",
    "# Initialize Trainer\n",
    "trainer = CustomTrainer(\n",
    "    model=model,\n",
    "    args=training_args,\n",
    "    train_dataset=train_dataset,\n",
    "    eval_dataset=test_dataset,\n",
    ")\n",
    "\n",
    "# Train and evaluate\n",
    "trainer.train()\n",
    "results = trainer.evaluate()\n",
    "print(\"Evaluation results:\", results)\n"
   ]
  },
  {
   "cell_type": "code",
   "execution_count": 17,
   "id": "967097a2-e932-4e71-9015-d9ea98977d73",
   "metadata": {},
   "outputs": [
    {
     "data": {
      "text/plain": [
       "('./results/my_tokenizer\\\\tokenizer_config.json',\n",
       " './results/my_tokenizer\\\\special_tokens_map.json',\n",
       " './results/my_tokenizer\\\\vocab.json',\n",
       " './results/my_tokenizer\\\\merges.txt',\n",
       " './results/my_tokenizer\\\\added_tokens.json')"
      ]
     },
     "execution_count": 17,
     "metadata": {},
     "output_type": "execute_result"
    }
   ],
   "source": [
    "# Save the model\n",
    "model_save_path = './results/my_model'\n",
    "model.save_pretrained(model_save_path)\n",
    "\n",
    "# Save the tokenizer\n",
    "tokenizer_save_path = './results/my_tokenizer'\n",
    "tokenizer.save_pretrained(tokenizer_save_path)"
   ]
  },
  {
   "cell_type": "code",
   "execution_count": 19,
   "id": "ccdf6459-b5dd-4cef-be01-aa941bc829b6",
   "metadata": {},
   "outputs": [
    {
     "name": "stderr",
     "output_type": "stream",
     "text": [
      "100%|██████████| 25/25 [00:47<00:00,  1.91s/it]"
     ]
    },
    {
     "name": "stdout",
     "output_type": "stream",
     "text": [
      "              precision    recall  f1-score   support\n",
      "\n",
      "    positive       0.58      0.81      0.68       113\n",
      "    negative       0.55      0.65      0.60       121\n",
      "     neutral       0.77      0.45      0.57       166\n",
      "\n",
      "    accuracy                           0.61       400\n",
      "   macro avg       0.63      0.64      0.61       400\n",
      "weighted avg       0.65      0.61      0.61       400\n",
      "\n"
     ]
    },
    {
     "name": "stderr",
     "output_type": "stream",
     "text": [
      "\n"
     ]
    }
   ],
   "source": [
    "# Get predictions\n",
    "preds_output = trainer.predict(test_dataset)\n",
    "preds = np.argmax(preds_output.predictions, axis=1)\n",
    "\n",
    "# Extract true labels from the dataset\n",
    "true_labels = np.array([example['labels'] for example in test_dataset])  # Extract labels correctly\n",
    "\n",
    "# Get unique labels\n",
    "all_labels = np.unique(true_labels)\n",
    "\n",
    "# Ensure target names correspond to unique labels\n",
    "target_names = ['positive', 'negative', 'neutral']  # Adjust based on your label encoding\n",
    "assert len(all_labels) == len(target_names), \"Mismatch between unique labels and target names.\"\n",
    "\n",
    "# Print classification report\n",
    "print(classification_report(true_labels, preds, labels=all_labels, target_names=target_names))\n"
   ]
  },
  {
   "cell_type": "markdown",
   "id": "446c18da",
   "metadata": {},
   "source": [
    "Positive Class: The model performs well in terms of recall, identifying 81% of the actual positive instances, but has a moderate precision of 58%, indicating some false positives.\n",
    "\n",
    "Negative Class: The model has a balanced precision and recall, both around 55-65%, but still has room for improvement.\n",
    "\n",
    "Neutral Class: The model struggles with neutral instances, with a high precision (77%) but a low recall (45%), suggesting it correctly identifies many of the predicted neutral instances, but misses a significant portion of actual neutral instances.\n",
    "\n",
    "The model has an accuracy of 61%, indicating that it correctly classifies 61% of the instances. "
   ]
  },
  {
   "cell_type": "markdown",
   "id": "c4dc77f3",
   "metadata": {},
   "source": [
    "* The accuracy of the model would increase if trained more rigorously.\n",
    "* Due to compute limitations it couldn't handle more epcohs and large dataset"
   ]
  },
  {
   "cell_type": "code",
   "execution_count": 21,
   "id": "8114ded4-2757-4f7d-b75a-2bc456843696",
   "metadata": {},
   "outputs": [
    {
     "data": {
      "image/png": "[encoded data removed]",
      "text/plain": [
       "<Figure size 1000x800 with 1 Axes>"
      ]
     },
     "metadata": {},
     "output_type": "display_data"
    }
   ],
   "source": [
    "# Prepare data for ROC curve\n",
    "lb = LabelBinarizer()\n",
    "lb.fit([0, 1, 2])  # Assuming you have three classes: 0 (positive), 1 (negative), 2 (neutral)\n",
    "test_labels_bin = lb.transform(true_labels)  # Binarize the true labels\n",
    "pred_probs = torch.nn.functional.softmax(torch.tensor(preds_output.predictions, dtype=torch.float32), dim=-1).numpy()\n",
    "\n",
    "# Plot ROC curve\n",
    "def plot_roc_curve(y_true, y_score, label_binarizer):\n",
    "    plt.figure(figsize=(10, 8))\n",
    "    for i in range(y_true.shape[1]):\n",
    "        fpr, tpr, _ = roc_curve(y_true[:, i], y_score[:, i])\n",
    "        roc_auc = auc(fpr, tpr)\n",
    "        plt.plot(fpr, tpr, label=f'Class {label_binarizer.classes_[i]} (AUC = {roc_auc:.2f})')\n",
    "    \n",
    "    plt.plot([0, 1], [0, 1], 'k--')\n",
    "    plt.xlim([0.0, 1.0])\n",
    "    plt.ylim([0.0, 1.05])\n",
    "    plt.xlabel('False Positive Rate')\n",
    "    plt.ylabel('True Positive Rate')\n",
    "    plt.title('ROC Curve')\n",
    "    plt.legend(loc=\"lower right\")\n",
    "    plt.show()\n",
    "\n",
    "plot_roc_curve(test_labels_bin, pred_probs, lb)\n"
   ]
  },
  {
   "cell_type": "markdown",
   "id": "92dde4fa",
   "metadata": {},
   "source": [
    "The roc curve suggests that the model is able to distingush between the three classes"
   ]
  }
 ],
 "metadata": {
  "kernelspec": {
   "display_name": "Python 3 (ipykernel)",
   "language": "python",
   "name": "python3"
  },
  "language_info": {
   "codemirror_mode": {
    "name": "ipython",
    "version": 3
   },
   "file_extension": ".py",
   "mimetype": "text/x-python",
   "name": "python",
   "nbconvert_exporter": "python",
   "pygments_lexer": "ipython3",
   "version": "3.10.6"
  }
 },
 "nbformat": 4,
 "nbformat_minor": 5
}
